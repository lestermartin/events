{
 "cells": [
  {
   "cell_type": "markdown",
   "id": "cfe2f50c",
   "metadata": {},
   "source": [
    "# Data Universe 2024 - Workshop 4\n",
    "\n",
    "## Data pipelines, views & data products [Python-based]\n",
    "\n",
    "This workshop was created for Data Universe 2024 - https://www.datauniverseevent.com/\n",
    "\n",
    "The GitHub project at https://github.com/lestermartin/du2024 includes information on all 4 of the workshops presented.  \n",
    "\n",
    "Workshop 4's lab guide ((make that a link)) identify where the steps are being referenced."
   ]
  },
  {
   "cell_type": "markdown",
   "id": "2bfb8252",
   "metadata": {},
   "source": [
    "### Lab 3 > Part 3 > Step 4: Begin working with PyStarburst\n",
    "\n",
    "Follow the instructions and run the code in the cells until you read a **RETURN TO LAB GUIDE** message.\n",
    "\n",
    "Run the following cell to install the PyStarburst library."
   ]
  },
  {
   "cell_type": "code",
   "execution_count": null,
   "id": "13684cc3",
   "metadata": {},
   "outputs": [],
   "source": [
    "#\n",
    "# Install the library\n",
    "#  https://docs.starburst.io/clients/python/pystarburst.html\n",
    "#\n",
    "\n",
    "%pip install pystarburst"
   ]
  },
  {
   "cell_type": "markdown",
   "id": "0bb34188",
   "metadata": {},
   "source": [
    "Wait until you see a message which states `you may need to restart the kernal ...`. **You do not need to restart anything.** \n",
    "\n",
    "Run the next cell which needs your host, user, and password details.  The prior step in the lab guide identified how to find those in Starburst Galaxy. "
   ]
  },
  {
   "cell_type": "code",
   "execution_count": null,
   "id": "62a3b87e",
   "metadata": {},
   "outputs": [],
   "source": [
    "#\n",
    "# Define connection properties\n",
    "#  get the host and other information from the cluster list\n",
    "#\n",
    "\n",
    "import getpass\n",
    "\n",
    "host = input(\"Host name\")\n",
    "username = input(\"User name\")\n",
    "password = getpass.getpass(\"Password\")"
   ]
  },
  {
   "cell_type": "markdown",
   "id": "a8e44921",
   "metadata": {},
   "source": [
    "IF you pasted or typed anything wrong in those 3 properties, you won't really know about it until the next step(s). \n",
    "\n",
    "IF you do get an error, the easiest solution is to delete the notebook and re-import it then try again.  :)\n",
    "\n",
    "**Unless otherwise indicated** read the comments at the top of the subsequent cells and then run them."
   ]
  },
  {
   "cell_type": "code",
   "execution_count": null,
   "id": "8f3affba",
   "metadata": {},
   "outputs": [],
   "source": [
    "#\n",
    "# Import dependencies and create a Session object\n",
    "#  https://pystarburst.eng.starburstdata.net/session.html#pystarburst.session.Session\n",
    "#\n",
    "\n",
    "from pystarburst import Session\n",
    "from pystarburst import functions as F\n",
    "from pystarburst.functions import *\n",
    "from pystarburst.window import Window as W\n",
    "\n",
    "import trino\n",
    "\n",
    "session_properties = {\n",
    "    \"host\":host,\n",
    "    \"port\": 443,\n",
    "    \"http_scheme\": \"https\",\n",
    "    \"auth\": trino.auth.BasicAuthentication(username, password)\n",
    "}\n",
    "\n",
    "session = Session.builder.configs(session_properties).create()\n",
    "# no output expected (well... unless there is an error!!)"
   ]
  },
  {
   "cell_type": "code",
   "execution_count": null,
   "id": "87bf9754",
   "metadata": {},
   "outputs": [],
   "source": [
    "#\n",
    "# Validate connectivity to the cluster\n",
    "#\n",
    "\n",
    "session.sql(\"select 1 as b\").collect()"
   ]
  },
  {
   "cell_type": "markdown",
   "id": "eab29de8",
   "metadata": {},
   "source": [
    "In Starburst Galaxy, go to the **Query** > **Query History** and see if you can find that this bogus select statement actually ran."
   ]
  },
  {
   "cell_type": "code",
   "execution_count": null,
   "id": "3f1abc98",
   "metadata": {},
   "outputs": [],
   "source": [
    "#\n",
    "# Verify you can see the discovered_schema schema\n",
    "#  https://pystarburst.eng.starburstdata.net/session.html#pystarburst.session.Session.sql\n",
    "#\n",
    "\n",
    "session.sql(\"show tables from du2024.discovered_schema\").collect()"
   ]
  },
  {
   "cell_type": "code",
   "execution_count": null,
   "id": "01f1bb92",
   "metadata": {},
   "outputs": [],
   "source": [
    "#\n",
    "# What columns make up the pokemon table\n",
    "#  https://pystarburst.eng.starburstdata.net/session.html#pystarburst.session.Session.table\n",
    "#  https://pystarburst.eng.starburstdata.net/dataframe.html#pystarburst.dataframe.DataFrame.schema\n",
    "#\n",
    "\n",
    "# Create a Dataframe for the pokemon table\n",
    "pokemonDF = session.table(\"du2024.discovered_schema.pokemon\")\n",
    "\n",
    "# Show the columns\n",
    "print(pokemonDF.schema.printSchema())"
   ]
  },
  {
   "cell_type": "code",
   "execution_count": null,
   "id": "79d1d372",
   "metadata": {},
   "outputs": [],
   "source": [
    "#\n",
    "# Show the data\n",
    "#  pokemonDF is the Dataframe (DF) that we defined early\n",
    "#  the show() command will list out up to 10 rows\n",
    "#    pass it an argument for something longer\n",
    "#  https://pystarburst.eng.starburstdata.net/dataframe.html#pystarburst.dataframe.DataFrame.show\n",
    "#\n",
    "\n",
    "pokemonDF.show()"
   ]
  },
  {
   "cell_type": "code",
   "execution_count": null,
   "id": "f66bf752",
   "metadata": {},
   "outputs": [],
   "source": [
    "#\n",
    "# That was pretty busy, let's try that again...\n",
    "#  use the select method on an existing DF identifying just the columns to keep\n",
    "#   https://pystarburst.eng.starburstdata.net/dataframe.html#pystarburst.dataframe.DataFrame.select\n",
    "#\n",
    "\n",
    "pokemonDF.select(\"num\", \"name\", \"lat\", \"lng\").show()"
   ]
  },
  {
   "cell_type": "markdown",
   "id": "def12457",
   "metadata": {},
   "source": [
    "### Create a new schema to house the structure and consume tables/views"
   ]
  },
  {
   "cell_type": "code",
   "execution_count": null,
   "id": "83d1c1a4",
   "metadata": {},
   "outputs": [],
   "source": [
    "session.sql(\"CREATE SCHEMA IF NOT EXISTS du2024.workshop4\").show()\n",
    "\n",
    "session.sql(\"USE du2024.workshop4\").show()\n",
    "\n",
    "session.get_fully_qualified_current_schema()"
   ]
  },
  {
   "cell_type": "markdown",
   "id": "a9fe521e",
   "metadata": {},
   "source": [
    "#### Create the `pokemon_spawn_structure` table\n",
    "\n",
    "Recall that the default table format you set for this catalog was Iceberg. However, you are still able to create a table with the Hive table format due to Great Lakes connectivity in Starburst Galaxy.  Great Lakes connectivity abstracts the details of using different table formats and file types when using certain write access statements for object storage systems. \n",
    "\n",
    "Part of your cleansing in the structure layer is to update the table format from Hive to Iceberg and convert the text file to an ORC file.  The table you just created with schema discovery is not yet fully optimized and transformed. \n",
    "\n",
    "First, build a new structure layer table with more accurate data types. Create the table using the ORC file format. This improves performance when using the Iceberg table format.  \n",
    "\n",
    "Run the following command to create the structure layer table."
   ]
  },
  {
   "cell_type": "code",
   "execution_count": null,
   "id": "d18865fd",
   "metadata": {},
   "outputs": [],
   "source": [
    "session.sql(\"DROP TABLE IF EXISTS pokemon_spawns_structure\").show()\n",
    "\n",
    "session.sql(\" \\\n",
    "    CREATE TABLE pokemon_spawns_structure (   \\\n",
    "        number INTEGER,                       \\\n",
    "        name VARCHAR,                         \\\n",
    "        latitude DOUBLE,                      \\\n",
    "        longitude DOUBLE,                     \\\n",
    "        encounter_seconds BIGINT              \\\n",
    "    ) WITH (format = 'ORC', type = 'ICEBERG')\").show()"
   ]
  },
  {
   "cell_type": "markdown",
   "id": "f7f82b12",
   "metadata": {},
   "source": [
    "#### Cast the land zone table's records appropriately\n",
    "\n",
    "The following code performs the need structuring to be loaded into the structure table."
   ]
  },
  {
   "cell_type": "code",
   "execution_count": null,
   "id": "b9d93897",
   "metadata": {},
   "outputs": [],
   "source": [
    "# https://pystarburst.eng.starburstdata.net/dataframe.html#pystarburst.dataframe.DataFrame.filter\n",
    "# https://pystarburst.eng.starburstdata.net/dataframe.html#pystarburst.dataframe.DataFrame.withColumn\n",
    "# https://pystarburst.eng.starburstdata.net/dataframe.html#pystarburst.dataframe.DataFrame.drop\n",
    "# https://pystarburst.eng.starburstdata.net/dataframe_functions.html#pystarburst.functions.cast\n",
    "# https://pystarburst.eng.starburstdata.net/dataframe_functions.html#pystarburst.functions.round\n",
    "# https://pystarburst.eng.starburstdata.net/dataframe_functions.html#pystarburst.functions.iff\n",
    "# https://pystarburst.eng.starburstdata.net/dataframe_functions.html#pystarburst.functions.div0\n",
    "\n",
    "pokemonCleanedDF = session.table(\"du2024.discovered_schema.pokemon\") \\\n",
    "    .select(\"num\", \"name\", \"lat\", \"lng\", \"encounter_ms\") \\\n",
    "    .filter(\"lat >= 37.62 AND lat <= 37.86\") \\\n",
    "    .filter(\"lng >= -122.51 AND lng <= -122.12\") \\\n",
    "    .withColumn(\"number\", cast(\"num\", \"INTEGER\")) \\\n",
    "    .drop(\"num\") \\\n",
    "    .withColumn(\"name2\", col(\"name\")).drop(\"name\").with_column_renamed(\"name2\", \"name\") \\\n",
    "    .withColumn(\"latitude\", round(\"lat\", 2)) \\\n",
    "    .drop(\"lat\") \\\n",
    "    .withColumn(\"longitude\", round(\"lng\", 2)) \\\n",
    "    .drop(\"lng\") \\\n",
    "    .withColumn(\"encounter_seconds\", iff(\"encounter_ms = -1\", lit(-1), div0(\"encounter_ms\", 1000))) \\\n",
    "    .drop(\"encounter_ms\")\n",
    "\n",
    "pokemonCleanedDF.show()"
   ]
  },
  {
   "cell_type": "markdown",
   "id": "d58a1f02",
   "metadata": {},
   "source": [
    "#### Insert data into the `pokemon_spawns_structure` table\n",
    "\n",
    "With the table already created, we can use the dataframe from above to write into the table.\n",
    "\n",
    "**Note:** After doing this manually the first time, you can automate the process in the future using an orchestration tool like Airflow, Prefect, or Dagster."
   ]
  },
  {
   "cell_type": "code",
   "execution_count": null,
   "id": "34d9072b",
   "metadata": {},
   "outputs": [],
   "source": [
    "# \n",
    "# Save to an EXISTING table (using 'append' mode)\n",
    "#  https://pystarburst.eng.starburstdata.net/dataframe_write_functions.html\n",
    "# \n",
    "\n",
    "pokemonCleanedDF.write.mode(\"append\").save_as_table(\"pokemon_spawns_structure\")\n",
    "\n",
    "\n",
    "# Verify 95197 rows were added\n",
    "\n",
    "session.table(\"pokemon_spawns_structure\").count()"
   ]
  },
  {
   "cell_type": "code",
   "execution_count": null,
   "id": "920d0f92",
   "metadata": {},
   "outputs": [],
   "source": [
    "# Validate it 'looks' good at a glance\n",
    "\n",
    "session.table(\"pokemon_spawns_structure\").show()"
   ]
  },
  {
   "cell_type": "markdown",
   "id": "cc55a026",
   "metadata": {},
   "source": [
    "#### Preview the lookup table\n",
    "\n",
    "The data in the lookup table also needs to be cleaned and optimized. It’s best practice to clean up the data in the structure layer before creating the consume layer.  First, run a quick join to show the federation capabilities available within Starburst Galaxy and join the newly created S3 `pokemon_spawns_structure` table with the unoptimized Snowflake lookup table `pokemon_lkp`."
   ]
  },
  {
   "cell_type": "code",
   "execution_count": null,
   "id": "95f537fd",
   "metadata": {},
   "outputs": [],
   "source": [
    "# https://pystarburst.eng.starburstdata.net/dataframe.html#pystarburst.dataframe.DataFrame.join\n",
    "\n",
    "spawnsStructureDF = session.sql(\"SELECT number, name, latitude, longitude  \\\n",
    "                                   FROM pokemon_spawns_structure\")\n",
    "\n",
    "pokedexLookupDF = session.table(\"pokemon_lkp.pokemon_lookup.pokedex\") \\\n",
    "    .withColumn(\"lkup_number\", cast(\"number\", \"INTEGER\")) \\\n",
    "    .select(\"lkup_number\", \"type_1\", \"type_2\", \"catch_rate\", \"generation\")\n",
    "\n",
    "spawnsStructureDF.join(pokedexLookupDF, spawnsStructureDF.number == pokedexLookupDF.lkup_number) \\\n",
    "    .drop(\"lkup_number\").show()"
   ]
  },
  {
   "cell_type": "markdown",
   "id": "26bcfb7e",
   "metadata": {},
   "source": [
    "You can see that data from two different data sources (catalogs) are returned above with one federated query. This is beneficial when performing interactive analytics; specifically for data consumers who could not otherwise get this information without a data engineer. "
   ]
  },
  {
   "cell_type": "markdown",
   "id": "a70b1d13",
   "metadata": {},
   "source": [
    "#### Create a `pokemon_pokedex_structure` table\n",
    "\n",
    "Now, create a table which will store an optimized version of this table. Create this table as a Delta Lake table. Why would you create a Delta Lake table? Because Starburst Galaxy’s Great Lakes connectivity gives you the ability to query multiple table formats at once. You will test this out later in the lab.  "
   ]
  },
  {
   "cell_type": "code",
   "execution_count": null,
   "id": "95c4d930",
   "metadata": {},
   "outputs": [],
   "source": [
    "session.sql(\"DROP TABLE IF EXISTS pokemon_pokedex_structure\").show()\n",
    "\n",
    "session.sql(\" \\\n",
    "    CREATE TABLE pokemon_pokedex_structure (  \\\n",
    "        name VARCHAR, number INTEGER,         \\\n",
    "        type_1 VARCHAR, type_2 VARCHAR,       \\\n",
    "        catch_rate INTEGER,                   \\\n",
    "        final_evolution DOUBLE,               \\\n",
    "        generation DOUBLE, abilities DOUBLE   \\\n",
    "    ) WITH (type = 'DELTA')\").show()"
   ]
  },
  {
   "cell_type": "markdown",
   "id": "351e37df",
   "metadata": {},
   "source": [
    "#### Insert data into the `pokemon_pokedex_structure` table\n",
    "\n",
    "Now that the table is created, create a dataframe of the cleaned data and insert it into the table."
   ]
  },
  {
   "cell_type": "code",
   "execution_count": null,
   "id": "5c0949b5",
   "metadata": {},
   "outputs": [],
   "source": [
    "toBeAdded = session.table(\"pokemon_lkp.pokemon_lookup.pokedex\") \\\n",
    "    .withColumn(\"cast_number\", cast(\"number\", \"INTEGER\")) \\\n",
    "    .withColumn(\"cast_catch_rate\", cast(\"catch_rate\", \"INTEGER\")) \\\n",
    "    .withColumn(\"cast_final_evolution\", cast(\"final_evolution\", \"DOUBLE\")) \\\n",
    "    .withColumn(\"cast_generation\", cast(\"generation\", \"DOUBLE\")) \\\n",
    "    .withColumn(\"cast_abilities\", cast(\"abilities\", \"DOUBLE\")) \\\n",
    "    .drop(\"number\", \"catch_rate\", \"final_evolution\", \"generation\", \"abilities\") \\\n",
    "    .with_column_renamed(\"cast_number\", \"number\") \\\n",
    "    .with_column_renamed(\"cast_catch_rate\", \"catch_rate\") \\\n",
    "    .with_column_renamed(\"cast_final_evolution\", \"final_evolution\") \\\n",
    "    .with_column_renamed(\"cast_generation\", \"generation\") \\\n",
    "    .with_column_renamed(\"cast_abilities\", \"abilities\") \\\n",
    "    .select(\"name\", \"number\", \"type_1\", \"type_2\", \"catch_rate\", \"final_evolution\", \"generation\", \"abilities\")\n",
    "\n",
    "toBeAdded.write.mode(\"append\").save_as_table(\"pokemon_pokedex_structure\")\n",
    "\n",
    "\n",
    "# verify 1032 rows were added\n",
    "\n",
    "session.table(\"pokemon_pokedex_structure\").count()"
   ]
  },
  {
   "cell_type": "code",
   "execution_count": null,
   "id": "c5ea92c4",
   "metadata": {},
   "outputs": [],
   "source": [
    "# Validate it 'looks' good at a glance\n",
    "\n",
    "session.table(\"pokemon_pokedex_structure\").show()"
   ]
  },
  {
   "cell_type": "markdown",
   "id": "084e3723",
   "metadata": {},
   "source": [
    "### Build the consumer layer\n",
    "\n",
    "Now it’s time to construct the last of the three layers of your data lake reporting structure, the consume layer. This will ready the layer for final consumption by data consumers. \n",
    "\n",
    "#### Revisit the business requirements\n",
    "\n",
    "Take this opportunity to refamiliarize yourself with the business case. This will inform the kinds of questions that you will ask about your dataset. \n",
    "\n",
    "In this scenario, the business case required you to: \n",
    "\n",
    "1. Create a final table output combining data from both structure tables.\n",
    "2. Create a data product answering two specific business questions from the marketing department. \n",
    "  - What are the easiest and most popular Pokemon to catch in San Francisco by Type_1? \n",
    "  - Find the total number of Pokemon caught for each Type_1 and Type_2 pairing. Also, find the average catch rate.\n",
    "\n",
    "**Note:** *Easiest is defined by having a high catch rate. A high catch rate is greater than or equal to 100. Also consider that in the structure layer, you filtered out data that did not exist in the San Francisco Bay Area.*  \n"
   ]
  },
  {
   "cell_type": "markdown",
   "id": "ae19db6a",
   "metadata": {},
   "source": [
    "#### Create the consume table\n",
    "\n",
    "Run the following to create the consume table.  This constructs a new table from two separate tables in S3. Note that the `pokemon_spawns_structure` table is an Iceberg table and the `pokemon_pokedex_structure` table is a Delta Lake table. \n",
    "\n",
    "**Note:** The `mode(\"overwrite\")` is implemented as a DROP then CTAS for the named table. "
   ]
  },
  {
   "cell_type": "code",
   "execution_count": null,
   "id": "4ba4787e",
   "metadata": {},
   "outputs": [],
   "source": [
    "sSpawnsDF = session.table(\"pokemon_spawns_structure\") \\\n",
    "    .select(\"number\", \"name\", \"latitude\", \"longitude\")\n",
    "\n",
    "sPokedexDF = session.table(\"pokemon_pokedex_structure\") \\\n",
    "    .filter(\"catch_rate > 100\") \\\n",
    "    .select(\"type_1\", \"type_2\", \"catch_rate\", \"number\")\n",
    "\n",
    "# when joining tables, any overlapping column names will have random column\n",
    "#  names in the resulting dataframe; one approach to helping with this is \n",
    "#  to use lsuffix and/or rsuffix to resolve duplicate names\n",
    "sSpawnsDF.join(sPokedexDF, sSpawnsDF.number == sPokedexDF.number, rsuffix=\"_p\") \\\n",
    "    .drop(\"number_p\") \\\n",
    "    .write.mode(\"overwrite\").save_as_table(\"pokemon_final_spawns\")\n",
    "\n",
    "\n",
    "# verify the table was created and has 94626 rows in it\n",
    "\n",
    "session.table(\"pokemon_final_spawns\").count()"
   ]
  },
  {
   "cell_type": "code",
   "execution_count": null,
   "id": "640e12ce",
   "metadata": {
    "scrolled": true
   },
   "outputs": [],
   "source": [
    "# Validate it 'looks' good at a glance\n",
    "\n",
    "session.table(\"pokemon_final_spawns\").show()"
   ]
  },
  {
   "cell_type": "markdown",
   "id": "baffb7d3",
   "metadata": {},
   "source": [
    "#### Find the easiest and most popular Pokemon in San Francisco\n",
    "\n",
    "Now, you need to derive two different views for the marketing department. These will be used to answer the business questions.  Remember, easiest is defined by a catch rate of greater than or equal to 100.  The most popular is defined as the most number of appearances for a certain Pokemon for each Type_1.\n",
    "\n",
    "**Note:** The window functions used in the rest of this exercise will be using SQL, but there are first-class Dataframe API calls identified in https://pystarburst.eng.starburstdata.net/window.html and some examples of using them captured in https://lestermartin.wordpress.com/2023/10/19/viewing-astronauts-thru-windows-more-pystarburst-examples/.  As a \"bonus exercise\", feel free to recreate some/all of the embedded SQL using these functions."
   ]
  },
  {
   "cell_type": "code",
   "execution_count": null,
   "id": "d78970d6",
   "metadata": {
    "scrolled": true
   },
   "outputs": [],
   "source": [
    "# Use SQL window function to rank the most popular Pokemon for each Type_1\n",
    "\n",
    "popTypesDF = session.sql(\" \\\n",
    "    SELECT type_1, name,                              \\\n",
    "           COUNT(*) AS total_appearances,             \\\n",
    "           RANK() OVER (PARTITION BY type_1           \\\n",
    "                           ORDER BY count(name) DESC  \\\n",
    "                       ) AS rank_column               \\\n",
    "      FROM pokemon_final_spawns                       \\\n",
    "     GROUP BY type_1, name                            \\\n",
    "     ORDER BY type_1, COUNT(*) DESC\")\n",
    "                         \n",
    "popTypesDF.show()                        "
   ]
  },
  {
   "cell_type": "code",
   "execution_count": null,
   "id": "95c171c0",
   "metadata": {
    "scrolled": true
   },
   "outputs": [],
   "source": [
    "# From the DF above, only keep the most popular Pokemon types\n",
    "\n",
    "mostPopTypesDF = popTypesDF.filter(\"rank_column = 1\") \\\n",
    "    .drop(\"rank_column\") \\\n",
    "    .order_by(\"total_appearances\", ascending=False) \\\n",
    "\n",
    "mostPopTypesDF.show()"
   ]
  },
  {
   "cell_type": "markdown",
   "id": "e5d1f57b",
   "metadata": {},
   "source": [
    "#### Create the first marketing view\n",
    "\n",
    "We already have the DF we need and can just use a method to create the view."
   ]
  },
  {
   "cell_type": "code",
   "execution_count": null,
   "id": "5689b75d",
   "metadata": {},
   "outputs": [],
   "source": [
    "# https://pystarburst.eng.starburstdata.net/dataframe.html#pystarburst.dataframe.DataFrame.createOrReplaceView\n",
    "\n",
    "mostPopTypesDF.createOrReplaceView(\"popular_types_sf_vw\")\n",
    "\n",
    "session.table(\"popular_types_sf_vw\").show()"
   ]
  },
  {
   "cell_type": "markdown",
   "id": "385972c2",
   "metadata": {},
   "source": [
    "#### Create the second marketing view\n",
    "\n",
    "Use SQL's GROUPING SETS to find the total number of Pokemon caught for each Type_1 and Type_2 pairing. "
   ]
  },
  {
   "cell_type": "code",
   "execution_count": null,
   "id": "658736c9",
   "metadata": {},
   "outputs": [],
   "source": [
    "grpSetsDF = session.sql(\" \\\n",
    "    SELECT type_1, type_2,                               \\\n",
    "           ROUND(AVG(catch_rate), 2) AS avg_catch_rate,  \\\n",
    "           COUNT(name) AS total_count                    \\\n",
    "      FROM pokemon_final_spawns                          \\\n",
    "     GROUP BY GROUPING SETS ((type_1, type_2))           \\\n",
    "     ORDER BY type_1, total_count DESC\")\n",
    "\n",
    "\n",
    "grpSetsDF.createOrReplaceView(\"counts_by_types_sf_vw\")\n",
    "\n",
    "session.table(\"counts_by_types_sf_vw\").show()"
   ]
  },
  {
   "cell_type": "code",
   "execution_count": null,
   "id": "376640e4",
   "metadata": {},
   "outputs": [],
   "source": [
    "# Verify the 3 structure tables and 2 consume views are present\n",
    "\n",
    "session.sql(\"show tables from du2024.workshop4\").collect()"
   ]
  },
  {
   "cell_type": "markdown",
   "id": "0167cfc5",
   "metadata": {},
   "source": [
    "### RETURN TO LAB GUIDE\n",
    "\n",
    "#### Resume at Lab 3 > Part 3 > Step 5: Return from working with PyStarburst"
   ]
  },
  {
   "cell_type": "code",
   "execution_count": null,
   "id": "7858935a",
   "metadata": {},
   "outputs": [],
   "source": []
  },
  {
   "cell_type": "code",
   "execution_count": null,
   "id": "1e89c7ca",
   "metadata": {},
   "outputs": [],
   "source": []
  }
 ],
 "metadata": {
  "kernelspec": {
   "display_name": "Python 3 (ipykernel)",
   "language": "python",
   "name": "python3"
  },
  "language_info": {
   "codemirror_mode": {
    "name": "ipython",
    "version": 3
   },
   "file_extension": ".py",
   "mimetype": "text/x-python",
   "name": "python",
   "nbconvert_exporter": "python",
   "pygments_lexer": "ipython3",
   "version": "3.10.9"
  }
 },
 "nbformat": 4,
 "nbformat_minor": 5
}
